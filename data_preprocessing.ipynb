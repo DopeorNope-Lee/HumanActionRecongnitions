{
 "cells": [
  {
   "cell_type": "code",
   "execution_count": null,
   "id": "012900c9",
   "metadata": {},
   "outputs": [],
   "source": [
    "import pandas as pd\n",
    "import numpy as np\n",
    "\n",
    "from sklearn.model_selection import train_test_split\n",
    "from sklearn.preprocessing import OneHotEncoder, StandardScaler\n",
    "from tqdm import tqdm"
   ]
  },
  {
   "cell_type": "markdown",
   "id": "87088b15",
   "metadata": {},
   "source": [
    "# original data split"
   ]
  },
  {
   "cell_type": "code",
   "execution_count": null,
   "id": "5f292522",
   "metadata": {},
   "outputs": [],
   "source": [
    "# setting variables\n",
    "user_lst = ['./data/user_06']\n",
    "#var_lst9 = ['mAcc_x','mAcc_y','mAcc_z', 'mGyr_x', 'mGyr_y', 'mGyr_z', 'mMag_x', 'mMag_y', 'mMag_z']\n",
    "var_lst = ['mAcc_x','mAcc_y','mAcc_z']\n",
    "target_name = 'activity'\n",
    "\n",
    "# make custom dataset function\n",
    "def CustomDataset(user_lst,var_lst,target_name):\n",
    "    whole_x=[]\n",
    "    whole_y=[]\n",
    "    \n",
    "    # import user\n",
    "    for user in user_lst:\n",
    "        data = pd.read_csv(user+'.csv')\n",
    "        \n",
    "        # find unique ts number\n",
    "        unique_ts=data['ts'].unique().astype('int64')\n",
    "        \n",
    "        # make window about each ts\n",
    "        for ts in tqdm(unique_ts):\n",
    "            \n",
    "            tmp_df = data[data['ts']==ts]\n",
    "            tmp_y = tmp_df['activity'].unique()[0] # all same activity\n",
    "\n",
    "            start = 150 # about 4s\n",
    "            end = 230 # window size + start\n",
    "\n",
    "            while(end<=tmp_df.shape[0]):\n",
    "                tmp_x=tmp_df[var_lst][start:end].to_numpy()\n",
    "                whole_x.append(tmp_x)\n",
    "                whole_y.append(tmp_y)\n",
    "                start+=40\n",
    "                end+=40 # 50% overlap\n",
    "                      \n",
    "    x=np.array(whole_x)\n",
    "    y=np.array(whole_y)\n",
    "\n",
    "    print('whole_X', x.shape)\n",
    "    print('whole_Y', y.shape)\n",
    "    \n",
    "    return x, y      "
   ]
  },
  {
   "cell_type": "code",
   "execution_count": null,
   "id": "5b304e7e",
   "metadata": {},
   "outputs": [],
   "source": [
    "# get dataset\n",
    "x_list, y_list = CustomDataset(user_lst, var_lst, target_name)"
   ]
  },
  {
   "cell_type": "code",
   "execution_count": null,
   "id": "33056955",
   "metadata": {},
   "outputs": [],
   "source": [
    "print(x_list.shape)\n",
    "print(y_list.shape)"
   ]
  },
  {
   "cell_type": "markdown",
   "id": "cc693998",
   "metadata": {},
   "source": [
    "## preprocessing"
   ]
  },
  {
   "cell_type": "code",
   "execution_count": null,
   "id": "e4063256",
   "metadata": {},
   "outputs": [],
   "source": [
    "# y one-hot\n",
    "enco= OneHotEncoder(sparse=False).fit(y_list[:,np.newaxis])\n",
    "y_list = enco.transform(y_list[:,np.newaxis])\n",
    "print('y shape:',y_list.shape)"
   ]
  },
  {
   "cell_type": "code",
   "execution_count": null,
   "id": "c0ef4242",
   "metadata": {},
   "outputs": [],
   "source": [
    "# 분할\n",
    "# train:valid:test = 0.9 : 0.05 : 0.05\n",
    "x_train, x_valid, y_train, y_valid = train_test_split(x_list, y_list, test_size=0.1, random_state=42)"
   ]
  },
  {
   "cell_type": "code",
   "execution_count": null,
   "id": "922d5797",
   "metadata": {},
   "outputs": [],
   "source": [
    "x_valid, x_test, y_valid, y_test = train_test_split(x_valid, y_valid, test_size=0.5, random_state=42)"
   ]
  },
  {
   "cell_type": "code",
   "execution_count": null,
   "id": "f781ee3e",
   "metadata": {},
   "outputs": [],
   "source": [
    "print('x_train shape :', x_train.shape)\n",
    "print('y_train shape :', y_train.shape)"
   ]
  },
  {
   "cell_type": "code",
   "execution_count": null,
   "id": "3403318e",
   "metadata": {},
   "outputs": [],
   "source": [
    "print('x_valid shape :', x_valid.shape)\n",
    "print('y_valid shape :', y_valid.shape)"
   ]
  },
  {
   "cell_type": "code",
   "execution_count": null,
   "id": "4eedb2ff",
   "metadata": {},
   "outputs": [],
   "source": [
    "print('x_test shape :', x_test.shape)\n",
    "print('y_test shape :', y_test.shape)"
   ]
  },
  {
   "cell_type": "code",
   "execution_count": null,
   "id": "e08ffbc6",
   "metadata": {},
   "outputs": [],
   "source": [
    "scaler = StandardScaler()\n",
    "x_train = scaler.fit_transform(x_train.reshape(-1, x_train.shape[-1])).reshape(x_train.shape)\n",
    "x_valid = scaler.transform(x_valid.reshape(-1, x_valid.shape[-1])).reshape(x_valid.shape)\n",
    "x_test = scaler.transform(x_test.reshape(-1, x_test.shape[-1])).reshape(x_test.shape)"
   ]
  },
  {
   "cell_type": "markdown",
   "id": "a8eafee4",
   "metadata": {},
   "source": [
    "#### data check"
   ]
  },
  {
   "cell_type": "code",
   "execution_count": null,
   "id": "9a17bea6",
   "metadata": {
    "scrolled": true
   },
   "outputs": [],
   "source": [
    "print(x_train)\n",
    "print(y_train)"
   ]
  },
  {
   "cell_type": "markdown",
   "id": "08c4db80",
   "metadata": {},
   "source": [
    "## save preprocessing data"
   ]
  },
  {
   "cell_type": "code",
   "execution_count": null,
   "id": "03106f6b",
   "metadata": {},
   "outputs": [],
   "source": [
    "np.save(\"./data/x_train.npy\", x_train)\n",
    "np.save(\"./data/x_valid.npy\", x_valid)\n",
    "np.save(\"./data/x_test.npy\", x_test)\n",
    "\n",
    "np.save(\"./data/y_train.npy\", y_train)\n",
    "np.save(\"./data/y_valid.npy\", y_valid)\n",
    "np.save(\"./data/y_test.npy\", y_test)"
   ]
  },
  {
   "cell_type": "code",
   "execution_count": null,
   "id": "410f7121",
   "metadata": {},
   "outputs": [],
   "source": [
    "import joblib\n",
    "joblib.dump(scaler,'./data/scaler.pkl')\n",
    "joblib.dump(enco,'./data/onehot.pkl')"
   ]
  },
  {
   "cell_type": "markdown",
   "id": "0748096a",
   "metadata": {},
   "source": [
    "# Let's apply the data into model!!"
   ]
  }
 ],
 "metadata": {
  "kernelspec": {
   "display_name": "Python 3 (ipykernel)",
   "language": "python",
   "name": "python3"
  },
  "language_info": {
   "codemirror_mode": {
    "name": "ipython",
    "version": 3
   },
   "file_extension": ".py",
   "mimetype": "text/x-python",
   "name": "python",
   "nbconvert_exporter": "python",
   "pygments_lexer": "ipython3",
   "version": "3.9.12"
  }
 },
 "nbformat": 4,
 "nbformat_minor": 5
}
